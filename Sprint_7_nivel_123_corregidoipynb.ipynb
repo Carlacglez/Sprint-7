{
 "cells": [
  {
   "cell_type": "markdown",
   "metadata": {},
   "source": [
    "# Sprint-7"
   ]
  },
  {
   "cell_type": "markdown",
   "metadata": {},
   "source": [
    "## NIVEL 1"
   ]
  },
  {
   "cell_type": "markdown",
   "metadata": {},
   "source": [
    "### Ejercicio 1\n",
    "\n",
    "Calculadora del índice de masa corporal\n",
    "\n",
    "Escribe una función que calcule el IMC ingresado por el usuario/a, es decir, quien lo ejecute deberá ingresar estos datos\n",
    "\n",
    "La función debe clasificar el resultado en sus respectivas categorías"
   ]
  },
  {
   "cell_type": "code",
   "execution_count": 78,
   "metadata": {},
   "outputs": [],
   "source": [
    "# aplico los inputs de las variables peso y altura \n",
    "\n",
    "peso = float(input(\"Cual es tu peso en kg? \"))\n",
    "altura = float(input(\"Cual es tu altura en metros?(ejemplo: 1.75) \"))"
   ]
  },
  {
   "cell_type": "code",
   "execution_count": 3,
   "metadata": {},
   "outputs": [],
   "source": [
    "# Hice una funcion para que imc sea peso / altura y en python el elevado  ** y despues se agrega el numero que queremos elevar\n",
    "\n",
    "def indice_IMC(peso, altura):\n",
    "    imc = peso / (altura ** 2)  \n",
    "    return imc\n",
    "\n",
    "#primero intenté hacer un print de indice_IMC pero no me daba un numero en la escala por lo que tuve que transformar el formato a 2 decimales y que sea float :.2f"
   ]
  },
  {
   "cell_type": "code",
   "execution_count": 79,
   "metadata": {},
   "outputs": [
    {
     "name": "stdout",
     "output_type": "stream",
     "text": [
      "Tu índice de masa corporal (IMC) es: 23.73 , estás en un peso normal\n",
      "\n",
      "Precaucion! esto es solo una medida standard, el calculo del IMC tiene un alto nivel de sesgo, siempre es mejor ir con un experto\n"
     ]
    }
   ],
   "source": [
    "#hago una variable para poder imprimir la formula anterior\n",
    "\n",
    "imc_calculado = indice_IMC(peso, altura) \n",
    "\n",
    "# genero las condicionales y los prints correspondientes a cada respuesta \n",
    "\n",
    "if imc_calculado <18.5:\n",
    "    print(f\"Tu índice de masa corporal (IMC) es: {imc_calculado:.2f} , estás bajo peso\") \n",
    "elif 18.5 <= imc_calculado <= 24.9:\n",
    "    print(f\"Tu índice de masa corporal (IMC) es: {imc_calculado:.2f} , estás en un peso normal\")\n",
    "elif 25 <= imc_calculado <= 29.9:\n",
    "    print(f\"Tu índice de masa corporal (IMC) es: {imc_calculado:.2f} , según el calculo estas con sobrepeso\")\n",
    "else:\n",
    "    print(f\"Tu índice de masa corporal (IMC) es: {imc_calculado:.2f} , según el calculo tienes obesidad\")\n",
    "\n",
    "#agrego el :.2f porque sino me da la respuesta del calculo con miles de decimas, asi lo limita a 2\n",
    "\n",
    "print()\n",
    "\n",
    "print(\"Precaucion! esto es solo una medida standard, el calculo del IMC tiene un alto nivel de sesgo, siempre es mejor ir con un experto\")"
   ]
  },
  {
   "cell_type": "markdown",
   "metadata": {},
   "source": [
    "### Ejercicio 2\n",
    "\n",
    "Conversor de temperaturas.\n",
    "\n",
    "Existen diversas unidades de temperatura utilizadas en distintos contextos y regiones.\n",
    "\n",
    "Las más comunes son Celsius (°C), Fahrenheit (°F) y Kelvin (K). \n",
    "\n",
    "También existen otras unidades como Rankine (°Ra) y Réaumur (°Re). \n",
    "\n",
    "Selecciona al menos 2 conversores, de modo que al introducir una temperatura devuelva, como mínimo, dos conversiones."
   ]
  },
  {
   "cell_type": "markdown",
   "metadata": {},
   "source": [
    "Primero para entender mejor el dato necesito saber las conversiones \n",
    "\n",
    "De ºC a ºF: se multiplica por 1.8 y se suma 32.\n",
    "\n",
    "De ºF a ºC: se resta 32 y se divide entre 1.8.\n",
    "\n",
    "De ºC a K: se suma 273.15.\n",
    "\n"
   ]
  },
  {
   "cell_type": "code",
   "execution_count": 5,
   "metadata": {},
   "outputs": [],
   "source": [
    "# Genero una condicion por si se ingresa un dato no valido para la conversión\n",
    "while True: \n",
    "  try:\n",
    "    temperatura_c = float(input(\"Digame los grados Celsius que necesita convertir, si tiene decimal usar un punto en vez de coma: \"))\n",
    "    break  # Si la conversión a float es exitosa, sale del loop \n",
    "  except ValueError: #pero si no puede hacerlo flotante entonces imprime el dato no valido \n",
    "    print(\"Dato no válido. Vuelve a intentarlo. Ingresa un número con punto decimal (por ejemplo, 25.5)\")"
   ]
  },
  {
   "cell_type": "code",
   "execution_count": 6,
   "metadata": {},
   "outputs": [],
   "source": [
    "# Hago una funcion para hacer conversión de Celsius a Fahrenheit\n",
    "\n",
    "def temperatura_c_a_f(temperatura_c): \n",
    "    temperatura_f = temperatura_c * 1.8 + 32\n",
    "    return temperatura_f"
   ]
  },
  {
   "cell_type": "code",
   "execution_count": 7,
   "metadata": {},
   "outputs": [],
   "source": [
    "# Hago una funcion para hacer conversion de Celsius a Kelvin\n",
    "\n",
    "def temperatura_c_a_k(temperatura_c):\n",
    "    temperatura_k= temperatura_c + 273.15\n",
    "    return temperatura_k"
   ]
  },
  {
   "cell_type": "code",
   "execution_count": 8,
   "metadata": {},
   "outputs": [
    {
     "name": "stdout",
     "output_type": "stream",
     "text": [
      "Los grados celsius que ingresaste: 56.0, la conversion a Fahrenheit es: 132.8 y la conversion a Kelvin es: 329.15 \n"
     ]
    }
   ],
   "source": [
    "# Para finalizar con el ejercicio imprimo los datos ingresados + sus respectivas conversiones\n",
    "conversion_c_a_f = temperatura_c_a_f(temperatura_c) \n",
    "conversion_c_a_k = temperatura_c_a_k(temperatura_c)\n",
    "print(f\"Los grados celsius que ingresaste: {temperatura_c}, la conversion a Fahrenheit es: {conversion_c_a_f} y la conversion a Kelvin es: {conversion_c_a_k} \")"
   ]
  },
  {
   "cell_type": "markdown",
   "metadata": {},
   "source": [
    "### Ejercicio 3\n",
    "\n",
    "Contador de palabras de un texto.\n",
    "\n",
    "Escribe una función que dado un texto, muestre las veces que aparece cada palabra."
   ]
  },
  {
   "cell_type": "code",
   "execution_count": 59,
   "metadata": {},
   "outputs": [],
   "source": [
    "# pido por consola un texto\n",
    "texto = input(\"dame una frase y te cuento las palabras que contiene:\")"
   ]
  },
  {
   "cell_type": "code",
   "execution_count": 12,
   "metadata": {},
   "outputs": [],
   "source": [
    "import re # Busqué una funcion que me ayude a limpiar los simbolos del texto y la importe\n"
   ]
  },
  {
   "cell_type": "code",
   "execution_count": 60,
   "metadata": {},
   "outputs": [],
   "source": [
    "# Primero lo hice como ejercicio de bucle \n",
    "# Ya después lo guarde como una funcion para el nivel 3\n",
    "\n",
    "def contar_palabras(texto):\n",
    "    palabras = re.split(r'\\W+', texto.lower()) \n",
    "    contar = {}  # Diccionario para almacenar el conteo de palabras\n",
    "\n",
    "    for p in palabras:\n",
    "        if p in contar:\n",
    "            contar[p] += 1  # Si la palabra ya existe, sumamos 1\n",
    "        else:\n",
    "            contar[p] = 1  # Si es nueva, la inicializamos en 1\n",
    "\n",
    "    return contar  # Devolvemos el diccionario con el conteo"
   ]
  },
  {
   "cell_type": "code",
   "execution_count": 61,
   "metadata": {},
   "outputs": [],
   "source": [
    "contador_palabras=contar_palabras(texto) "
   ]
  },
  {
   "cell_type": "code",
   "execution_count": 62,
   "metadata": {},
   "outputs": [
    {
     "data": {
      "text/plain": [
       "{'tú': 4,\n",
       " 'me': 7,\n",
       " 'quieres': 6,\n",
       " 'alba': 2,\n",
       " 'de': 4,\n",
       " 'espumas': 1,\n",
       " 'nácar': 1,\n",
       " 'que': 1,\n",
       " 'sea': 1,\n",
       " 'azucena': 1,\n",
       " 'sobre': 1,\n",
       " 'todas': 1,\n",
       " 'casta': 1,\n",
       " 'perfume': 1,\n",
       " 'tenue': 1,\n",
       " 'corola': 1,\n",
       " 'cerrada': 1,\n",
       " 'ni': 2,\n",
       " 'un': 1,\n",
       " 'rayo': 1,\n",
       " 'luna': 1,\n",
       " 'filtrado': 1,\n",
       " 'haya': 1,\n",
       " 'una': 1,\n",
       " 'margarita': 1,\n",
       " 'se': 1,\n",
       " 'diga': 1,\n",
       " 'mi': 1,\n",
       " 'hermana': 1,\n",
       " 'nívea': 1,\n",
       " 'blanca': 1,\n",
       " '': 1}"
      ]
     },
     "execution_count": 62,
     "metadata": {},
     "output_type": "execute_result"
    }
   ],
   "source": [
    "contador_palabras #shift + enter para que me de el resultado"
   ]
  },
  {
   "cell_type": "markdown",
   "metadata": {},
   "source": [
    "### Ejercicio 4\n",
    "\n",
    "Diccionario inverso.\n",
    "\n",
    "Resulta que el cliente tiene una encuesta muy antigua que se almacena en un diccionario y los resultados los necesita a la inversa,\n",
    "\n",
    "es decir, intercambiados las claves y valores. Los valores y claves en el diccionario original son únicos; \n",
    "\n",
    "si éste no es el caso, la función debería imprimir un mensaje de advertencia."
   ]
  },
  {
   "cell_type": "code",
   "execution_count": 15,
   "metadata": {},
   "outputs": [],
   "source": [
    "#Parte 1\n",
    "diccionario = {\"a\":1,\"b\":2, \"c\":3}"
   ]
  },
  {
   "cell_type": "code",
   "execution_count": 16,
   "metadata": {},
   "outputs": [],
   "source": [
    "#hago una funcion que invierta el resultado con la condicional de que si se repite el valor frene frene el bucle \n",
    "def diccionario_invertido(diccionario):\n",
    "    dictinvertido={}\n",
    "    for key, value in diccionario.items(): #en el bucle asigno key y value \n",
    "        if value in dictinvertido: #si al recorrer el diccionario la value ya existe print error y que el resultado sea None \n",
    "            print(f\"Error: multiples claves para un mismo valor {value}\")\n",
    "            return None\n",
    "        dictinvertido[value]=key # pasar los valores a llaves \n",
    "    return dictinvertido \n"
   ]
  },
  {
   "cell_type": "code",
   "execution_count": 17,
   "metadata": {},
   "outputs": [],
   "source": [
    "diccionario_actualizado = diccionario_invertido(diccionario) #genero la nueva variable y el resultado es la funcion"
   ]
  },
  {
   "cell_type": "code",
   "execution_count": 18,
   "metadata": {},
   "outputs": [
    {
     "data": {
      "text/plain": [
       "{1: 'a', 2: 'b', 3: 'c'}"
      ]
     },
     "execution_count": 18,
     "metadata": {},
     "output_type": "execute_result"
    }
   ],
   "source": [
    "# Resultado el diccionario ahora tiene los valores como llaves \n",
    "diccionario_actualizado"
   ]
  },
  {
   "cell_type": "code",
   "execution_count": 19,
   "metadata": {},
   "outputs": [],
   "source": [
    "#PARTE 2\n",
    "# Ahora pruebo si funciona cuando tenemos valores repetidos como en el ejemplo dos del ejercicio\n",
    "diccionario2= {'x': 'apple', 'y': 'banana', 'z': 'banana'}"
   ]
  },
  {
   "cell_type": "code",
   "execution_count": 20,
   "metadata": {},
   "outputs": [
    {
     "name": "stdout",
     "output_type": "stream",
     "text": [
      "Error: multiples claves para un mismo valor banana\n"
     ]
    }
   ],
   "source": [
    "#El diccionario 2 tiene valores repetidos y se imprime el error que pusimos en la condicional \"Error: multiples claves para un mismo valor {value}\" \n",
    "\n",
    "diccionario2_actualizado=diccionario_invertido(diccionario2)"
   ]
  },
  {
   "cell_type": "code",
   "execution_count": 21,
   "metadata": {},
   "outputs": [],
   "source": [
    "#Si quisiera imprimir el diccionario actualizado 2  me da none porque no tiene nada dentro\n",
    "diccionario2_actualizado"
   ]
  },
  {
   "cell_type": "markdown",
   "metadata": {},
   "source": [
    "## Nivel 2 "
   ]
  },
  {
   "cell_type": "markdown",
   "metadata": {},
   "source": [
    "### Ejercicio 1"
   ]
  },
  {
   "cell_type": "markdown",
   "metadata": {},
   "source": [
    "Diccionario inverso con duplicados\n",
    "\n",
    "Continuando con el ejercicio 4 del nivel 1: \n",
    "\n",
    "al cliente se olvidó comentar un detalle y resulta que los valores en el diccionario original pueden duplicarse y más,\n",
    "\n",
    "por lo que las claves intercambiadas pueden tener duplicados. En este caso, en el ejercicio anterior imprimías un mensaje de advertencia,\n",
    "\n",
    "ahora, los valores del diccionario resultante tendrán que almacenarse como una lista.\n",
    "\n",
    "Ten en cuenta que si es un valor único no debe ser una lista."
   ]
  },
  {
   "cell_type": "code",
   "execution_count": 22,
   "metadata": {},
   "outputs": [],
   "source": [
    "diccionario_plus = {'x': 'apple', 'y': 'banana', 'z': 'banana'}"
   ]
  },
  {
   "cell_type": "code",
   "execution_count": 23,
   "metadata": {},
   "outputs": [],
   "source": [
    "# Hago una nueva función que cuando una llave este repetida guarde los valores en listas \n",
    "\n",
    "def diccionario_invertido_2(diccionario_plus):\n",
    "    dictinvertido2={}\n",
    "    for key, value in diccionario_plus.items(): \n",
    "        if value in dictinvertido2: # hacemos una condicional, si el valor ya está en dictinvertido2 agrega su llave\n",
    "            dictinvertido2[value].append(key)\n",
    "        else:\n",
    "            dictinvertido2[value] = [key]  # en else para cada valor hacemos una lista con la llave\n",
    "\n",
    "# si lo dejo hasta aquí cualquier llave invertida a valor se guarda en una lista \n",
    "\n",
    "# agrego una condicion para que cuando sea un valor único no sea una lista \n",
    "\n",
    "    for key in dictinvertido2:\n",
    "        if len(dictinvertido2[key])==1: # utilizo len para contar el valor y si es igual a 1\n",
    "            dictinvertido2[key]=dictinvertido2[key][0]# que lo deje como valor unico y no en una lista [0]\n",
    "\n",
    "    return dictinvertido2"
   ]
  },
  {
   "cell_type": "code",
   "execution_count": 24,
   "metadata": {},
   "outputs": [],
   "source": [
    "diccionario_actualizado_plus = diccionario_invertido_2(diccionario_plus)"
   ]
  },
  {
   "cell_type": "code",
   "execution_count": 25,
   "metadata": {},
   "outputs": [
    {
     "data": {
      "text/plain": [
       "{'apple': 'x', 'banana': ['y', 'z']}"
      ]
     },
     "execution_count": 25,
     "metadata": {},
     "output_type": "execute_result"
    }
   ],
   "source": [
    "# ahora si hago print tenemos los valores unicos como string y cuando se repite el valor en una lista\n",
    "diccionario_actualizado_plus"
   ]
  },
  {
   "cell_type": "markdown",
   "metadata": {},
   "source": [
    "### Ejercicio 2"
   ]
  },
  {
   "cell_type": "markdown",
   "metadata": {},
   "source": [
    "Conversión de tipos de datos\n",
    "\n",
    "El cliente recibe una lista de datos y necesita generar dos listas,\n",
    "\n",
    "la primera donde estarán todos los elementos que pudieron convertirse en flotantes \n",
    "\n",
    "y la otra donde están los elementos que no pudieron convertirse. \n",
    "\n",
    "Ejemplo de la lista que recibe el cliente: [ '1.3', 'one' , '1e10' , 'seven', '3-1/2', ('2',1,1.4,'not-a-number'), [1,2,'3','3.4']]"
   ]
  },
  {
   "cell_type": "code",
   "execution_count": 26,
   "metadata": {},
   "outputs": [],
   "source": [
    "lista =  [ '1.3', 'one' , '1e10' , 'seven', '3-1/2', ('2',1,1.4,'not-a-number'), [1,2,'3','3.4']]"
   ]
  },
  {
   "cell_type": "code",
   "execution_count": 27,
   "metadata": {},
   "outputs": [],
   "source": [
    "# Primero genero una funcion que elimine las listas y tuplas dentro de la lista\n",
    "def nuevo_orden(lista):\n",
    "\n",
    "    lista_float = [] # Hago una lista vacia para los numeros flotantes\n",
    "    lista_nofloat =[] # Hago otra lista vacia para los que no se puedan convertir \n",
    "\n",
    "    for valor1 in lista:\n",
    "        if isinstance(valor1,list) or isinstance(valor1,tuple): #Utilizo isistance para identificar si un elemento es lista o tupla\n",
    "            for valor_sublista1 in valor1: \n",
    "                try:\n",
    "                    lista_float.append(float(valor_sublista1)) #si al recorrer el bucle lo puedo pasar a float que lo agregue a lista_float\n",
    "                except ValueError:\n",
    "                    lista_nofloat.append(valor_sublista1) #si da un ValueError lo agrega sin modificarlo a la lista_nofloat\n",
    "       \n",
    "\n",
    "       # Aplico else para todos los otros valores que no son ni lista ni tupla\n",
    "\n",
    "        else: \n",
    "            try:\n",
    "                lista_float.append(float(valor1)) \n",
    "            except ValueError:\n",
    "                lista_nofloat.append(valor1) \n",
    "    return lista_float, lista_nofloat"
   ]
  },
  {
   "cell_type": "code",
   "execution_count": 28,
   "metadata": {},
   "outputs": [
    {
     "name": "stdout",
     "output_type": "stream",
     "text": [
      " La lista con numeros flotantes es: [1.3, 10000000000.0, 2.0, 1.0, 1.4, 1.0, 2.0, 3.0, 3.4]\n",
      " La lista que no se pudo convertir es: ['one', 'seven', '3-1/2', 'not-a-number']\n"
     ]
    }
   ],
   "source": [
    "lista_flotantes, lista_noflotantes = nuevo_orden(lista)\n",
    "\n",
    "print(f\" La lista con numeros flotantes es: {lista_flotantes}\\n\"\n",
    "      f\" La lista que no se pudo convertir es: {lista_noflotantes}\")"
   ]
  },
  {
   "cell_type": "markdown",
   "metadata": {},
   "source": [
    "## Nivel 3"
   ]
  },
  {
   "cell_type": "markdown",
   "metadata": {},
   "source": [
    "Contador y ordenador de palabras de un texto.\n",
    "El cliente quedó contento con el contador de palabras,\n",
    "pero ahora quiere leer archivos TXT y que calcule la frecuencia de cada palabra ordenadas\n",
    "dentro de las entradas habituales del diccionario según la letra con la que empiezan, \n",
    "es decir, las claves deben ir de la A a Z y dentro de la A_t para A_z. da sería: {'a': {'a': 3, 'agua': 1, 'al': 2, 'alba': 4, 'alcobas': 1, 'alimenta': 1, 'alma': 1, 'amarga': 1, 'azucena': 1},\n",
    "'b': {'baco': 1, 'banquete': 1, 'bebe': 1, 'blanca': 3, 'boca': 1, 'bosques': 1, 'buen': 1},\n",
    "'c': {'cabañas': 1, 'carnes': 2, 'casta': 3, 'cerrada': 1, 'con': 4, 'conservas': 1, 'copas': 1, 'corola': 1, 'corriste': 1},\n",
    "'t': {'tornadas': 1, 'tú': 8},\n",
    "'u': {'un': 1, 'una': 1},\n",
    "'v': {'vestido': 1, 'vete': 1, 'vive': 1},\n",
    "'y': {'y': 5}}"
   ]
  },
  {
   "cell_type": "code",
   "execution_count": 70,
   "metadata": {},
   "outputs": [],
   "source": [
    "#ingrso el archivo pero tengo que agregarle a la ruta 'encoding=utf-8' para que me lea los acentos\n",
    "\n",
    "texto_archivo = open(r\"C:\\Users\\Carla\\Curso_reskilling_Data\\Sprint-7\\tu_me_quieres_blanca (1).txt\", encoding=\"utf-8\")\n",
    "textotxt = texto_archivo.read()"
   ]
  },
  {
   "cell_type": "code",
   "execution_count": 64,
   "metadata": {},
   "outputs": [],
   "source": [
    "contador_palabras=contar_palabras(textotxt) #utilizo la funcion que hice en el ejercicio 3 del nivel 1"
   ]
  },
  {
   "cell_type": "code",
   "execution_count": 74,
   "metadata": {},
   "outputs": [],
   "source": [
    "# Hago una nueva funcion \n",
    "\n",
    "def contador_palabras_alfabeto(contador_palabras: dict): #le indico que la nueva funcion tiene que ser un diccionario\n",
    "    dic_orden = {} # Hago un diccionario vacío\n",
    "\n",
    "    for key, value in contador_palabras.items(): # Genero un bucle que vaya recorriendo por clave y valor\n",
    "\n",
    "        if key.strip(): #me generaba error porque el texto que nos dieron tenía cadenas vacías y con este metodo lo elimina \n",
    "\n",
    "            primera_letra = key[0] # Hago un variable que la clave sea el primer elemento de la palabra \n",
    "\n",
    "            if primera_letra not in dic_orden: #si no existe un grupo se crea un diccionario\n",
    "                dic_orden[primera_letra] = {} \n",
    "\n",
    "            dic_orden[primera_letra][key] = value # Agrega la palabra dentro del subdiccionario de la primera_letra\n",
    "\n",
    "    return dict(sorted(dic_orden.items()))  # Ahora en return pido que lo devuelva ordenado alfabeticamente con sorted()"
   ]
  },
  {
   "cell_type": "code",
   "execution_count": 75,
   "metadata": {},
   "outputs": [],
   "source": [
    "dic_ordenado=contador_palabras_alfabeto(contador_palabras) # lo guardo en una variable "
   ]
  },
  {
   "cell_type": "code",
   "execution_count": 76,
   "metadata": {},
   "outputs": [
    {
     "name": "stdout",
     "output_type": "stream",
     "text": [
      "{'a': {'alba': 4, 'azucena': 1, 'a': 3, 'al': 2, 'alimenta': 1, 'amarga': 1, 'agua': 1, 'alma': 1, 'alcobas': 1}, 'b': {'blanca': 3, 'banquete': 1, 'baco': 1, 'bosques': 1, 'boca': 1, 'bebe': 1, 'buen': 1}, 'c': {'casta': 3, 'corola': 1, 'cerrada': 1, 'copas': 1, 'cubierto': 1, 'carnes': 2, 'corriste': 1, 'conservas': 1, 'cuáles': 1, 'cabañas': 1, 'con': 4, 'cuerpo': 1, 'cuando': 2}, 'd': {'de': 8, 'diga': 1, 'dejaste': 1, 'del': 1, 'dios': 2, 'duerme': 1}, 'e': {'espumas': 1, 'en': 4, 'el': 4, 'engaño': 1, 'estrago': 1, 'esqueleto': 1, 'escarcha': 1, 'ellas': 1, 'enredada': 1, 'entonces': 1}, 'f': {'filtrado': 1, 'frutos': 1, 'festejando': 1}, 'h': {'haya': 1, 'hermana': 1, 'hubiste': 1, 'huye': 1, 'hacia': 1, 'habla': 1, 'hayas': 1, 'hombre': 1}, 'i': {'intacto': 1}, 'j': {'jardines': 1}, 'l': {'luna': 1, 'las': 7, 'los': 4, 'labios': 1, 'lo': 2, 'la': 3, 'límpiate': 1, 'lévate': 1}, 'm': {'me': 10, 'margarita': 1, 'mi': 1, 'mano': 1, 'mieles': 1, 'morados': 1, 'milagros': 1, 'montaña': 1, 'manos': 1, 'mojada': 1}, 'n': {'nácar': 1, 'ni': 2, 'nívea': 2, 'negros': 1, 'no': 1}, 'p': {'perfume': 1, 'pámpanos': 1, 'por': 2, 'pretendes': 3, 'perdone': 2, 'pájaros': 1, 'puesto': 1, 'preténdeme': 3}, 'q': {'quieres': 6, 'que': 6, 'quedó': 1}, 'r': {'rayo': 1, 'rojo': 1, 'raíz': 1, 'rocas': 1, 'renueva': 1}, 's': {'sea': 1, 'sobre': 2, 'se': 2, 'sé': 1, 'salitre': 1, 'sean': 1}, 't': {'tú': 8, 'todas': 2, 'tenue': 1, 'todavía': 1, 'te': 3, 'toca': 1, 'tierra': 1, 'tejidos': 1, 'tornadas': 1}, 'u': {'un': 1, 'una': 1}, 'v': {'vestido': 1, 'vete': 1, 'vive': 1}, 'y': {'y': 5}}\n"
     ]
    }
   ],
   "source": [
    "print(dic_ordenado) # Imprimo el resultado pero lo hace en una sola linea y es dificil de ver"
   ]
  },
  {
   "cell_type": "code",
   "execution_count": 77,
   "metadata": {},
   "outputs": [
    {
     "data": {
      "text/plain": [
       "{'a': {'alba': 4,\n",
       "  'azucena': 1,\n",
       "  'a': 3,\n",
       "  'al': 2,\n",
       "  'alimenta': 1,\n",
       "  'amarga': 1,\n",
       "  'agua': 1,\n",
       "  'alma': 1,\n",
       "  'alcobas': 1},\n",
       " 'b': {'blanca': 3,\n",
       "  'banquete': 1,\n",
       "  'baco': 1,\n",
       "  'bosques': 1,\n",
       "  'boca': 1,\n",
       "  'bebe': 1,\n",
       "  'buen': 1},\n",
       " 'c': {'casta': 3,\n",
       "  'corola': 1,\n",
       "  'cerrada': 1,\n",
       "  'copas': 1,\n",
       "  'cubierto': 1,\n",
       "  'carnes': 2,\n",
       "  'corriste': 1,\n",
       "  'conservas': 1,\n",
       "  'cuáles': 1,\n",
       "  'cabañas': 1,\n",
       "  'con': 4,\n",
       "  'cuerpo': 1,\n",
       "  'cuando': 2},\n",
       " 'd': {'de': 8, 'diga': 1, 'dejaste': 1, 'del': 1, 'dios': 2, 'duerme': 1},\n",
       " 'e': {'espumas': 1,\n",
       "  'en': 4,\n",
       "  'el': 4,\n",
       "  'engaño': 1,\n",
       "  'estrago': 1,\n",
       "  'esqueleto': 1,\n",
       "  'escarcha': 1,\n",
       "  'ellas': 1,\n",
       "  'enredada': 1,\n",
       "  'entonces': 1},\n",
       " 'f': {'filtrado': 1, 'frutos': 1, 'festejando': 1},\n",
       " 'h': {'haya': 1,\n",
       "  'hermana': 1,\n",
       "  'hubiste': 1,\n",
       "  'huye': 1,\n",
       "  'hacia': 1,\n",
       "  'habla': 1,\n",
       "  'hayas': 1,\n",
       "  'hombre': 1},\n",
       " 'i': {'intacto': 1},\n",
       " 'j': {'jardines': 1},\n",
       " 'l': {'luna': 1,\n",
       "  'las': 7,\n",
       "  'los': 4,\n",
       "  'labios': 1,\n",
       "  'lo': 2,\n",
       "  'la': 3,\n",
       "  'límpiate': 1,\n",
       "  'lévate': 1},\n",
       " 'm': {'me': 10,\n",
       "  'margarita': 1,\n",
       "  'mi': 1,\n",
       "  'mano': 1,\n",
       "  'mieles': 1,\n",
       "  'morados': 1,\n",
       "  'milagros': 1,\n",
       "  'montaña': 1,\n",
       "  'manos': 1,\n",
       "  'mojada': 1},\n",
       " 'n': {'nácar': 1, 'ni': 2, 'nívea': 2, 'negros': 1, 'no': 1},\n",
       " 'p': {'perfume': 1,\n",
       "  'pámpanos': 1,\n",
       "  'por': 2,\n",
       "  'pretendes': 3,\n",
       "  'perdone': 2,\n",
       "  'pájaros': 1,\n",
       "  'puesto': 1,\n",
       "  'preténdeme': 3},\n",
       " 'q': {'quieres': 6, 'que': 6, 'quedó': 1},\n",
       " 'r': {'rayo': 1, 'rojo': 1, 'raíz': 1, 'rocas': 1, 'renueva': 1},\n",
       " 's': {'sea': 1, 'sobre': 2, 'se': 2, 'sé': 1, 'salitre': 1, 'sean': 1},\n",
       " 't': {'tú': 8,\n",
       "  'todas': 2,\n",
       "  'tenue': 1,\n",
       "  'todavía': 1,\n",
       "  'te': 3,\n",
       "  'toca': 1,\n",
       "  'tierra': 1,\n",
       "  'tejidos': 1,\n",
       "  'tornadas': 1},\n",
       " 'u': {'un': 1, 'una': 1},\n",
       " 'v': {'vestido': 1, 'vete': 1, 'vive': 1},\n",
       " 'y': {'y': 5}}"
      ]
     },
     "execution_count": 77,
     "metadata": {},
     "output_type": "execute_result"
    }
   ],
   "source": [
    "dic_ordenado # Si lo ejecuto sin print ya lo hace ordenandolo como lo piden en el ejercicio"
   ]
  }
 ],
 "metadata": {
  "kernelspec": {
   "display_name": "Python 3",
   "language": "python",
   "name": "python3"
  },
  "language_info": {
   "codemirror_mode": {
    "name": "ipython",
    "version": 3
   },
   "file_extension": ".py",
   "mimetype": "text/x-python",
   "name": "python",
   "nbconvert_exporter": "python",
   "pygments_lexer": "ipython3",
   "version": "3.11.9"
  }
 },
 "nbformat": 4,
 "nbformat_minor": 2
}
